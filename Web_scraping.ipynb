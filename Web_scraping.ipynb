{
 "cells": [
  {
   "cell_type": "code",
   "execution_count": 1,
   "metadata": {},
   "outputs": [
    {
     "ename": "IndentationError",
     "evalue": "expected an indented block (<ipython-input-1-969fc0f6ddbc>, line 21)",
     "output_type": "error",
     "traceback": [
      "\u001b[0;36m  File \u001b[0;32m\"<ipython-input-1-969fc0f6ddbc>\"\u001b[0;36m, line \u001b[0;32m21\u001b[0m\n\u001b[0;31m    if (token['pos']='verb'):\u001b[0m\n\u001b[0m     ^\u001b[0m\n\u001b[0;31mIndentationError\u001b[0m\u001b[0;31m:\u001b[0m expected an indented block\n"
     ]
    }
   ],
   "source": [
    "#Crawler la page liberation.fr:\n",
    "import requests\n",
    "from bs4 import BeautifulSoup\n",
    "url = 'https://www.liberation.fr/'\n",
    "req = requests.get(url)\n",
    "soup = BeautifulSoup(req.text, 'lxml')\n",
    "paragraph = soup.find_all('p')\n",
    "# compter les verbes:\n",
    "import requests\n",
    "from bs4 import BeautifulSoup\n",
    "url = 'https://www.liberation.fr/'\n",
    "req = requests.get(url)\n",
    "soup = BeautifulSoup(req.text, 'lxml')\n",
    "paragraph = soup.find_all('p')\n",
    "import stanza\n",
    "#stanza.download('fr') # download English model\n",
    "nlp = stanza.Pipeline('fr') # initialize English neural pipeline\n",
    "doc = nlp(paragraph) # run annotation over a sentence\n",
    "dict1 = doc['sentences'][0]['tokens']\n",
    "for token in doc['sentences'][0]['tokens']:\n",
    "if (token['pos']='verb'):\n",
    "dict2[liste.index(token)+1]=token\n",
    "\n",
    "# Mettre les verbes dans un dictionnaire + les organiser par ordre alphabétique\n",
    "\n",
    "dict1 = doc['sentences'][0]['tokens']\n",
    "dict2 = {}\n",
    "liste = []\n",
    "for token in doc['sentences'][0]['tokens']:\n",
    "if (token['pos']='verb'):\n",
    "dict2[liste.index(token)+1]=token"
   ]
  },
  {
   "cell_type": "code",
   "execution_count": null,
   "metadata": {},
   "outputs": [],
   "source": []
  }
 ],
 "metadata": {
  "kernelspec": {
   "display_name": "Python 3",
   "language": "python",
   "name": "python3"
  },
  "language_info": {
   "codemirror_mode": {
    "name": "ipython",
    "version": 3
   },
   "file_extension": ".py",
   "mimetype": "text/x-python",
   "name": "python",
   "nbconvert_exporter": "python",
   "pygments_lexer": "ipython3",
   "version": "3.6.5"
  }
 },
 "nbformat": 4,
 "nbformat_minor": 2
}
